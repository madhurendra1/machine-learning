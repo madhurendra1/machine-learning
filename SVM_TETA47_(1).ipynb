{
  "nbformat": 4,
  "nbformat_minor": 0,
  "metadata": {
    "colab": {
      "name": "SVM_TETA47 (1).ipynb",
      "provenance": []
    },
    "kernelspec": {
      "name": "python3",
      "display_name": "Python 3"
    },
    "language_info": {
      "name": "python"
    }
  },
  "cells": [
    {
      "cell_type": "code",
      "source": [
        "data = pd.read_csv(\"https://raw.githubusercontent.com/madhurendra1/machine-learning/main/UAS_SVM.csv\")   # read the dataset"
      ],
      "metadata": {
        "id": "7g4H9WCwG4MO"
      },
      "execution_count": null,
      "outputs": []
    },
    {
      "cell_type": "code",
      "execution_count": null,
      "metadata": {
        "id": "EcyF9SrBG2GM"
      },
      "outputs": [],
      "source": [
        "# import all required library\n",
        "import pandas as pd\n",
        "import numpy as np\n",
        "import matplotlib.pyplot as plt\n",
        "import seaborn as sns\n",
        "from imblearn.under_sampling import NearMiss\n",
        "from sklearn.preprocessing import LabelEncoder\n",
        "from sklearn.model_selection import train_test_split\n",
        "from sklearn.neighbors import KNeighborsClassifier\n",
        "from sklearn.svm import SVC\n",
        "from sklearn.metrics import accuracy_score, classification_report, confusion_matrix\n",
        "from prettytable import PrettyTable"
      ]
    },
    {
      "cell_type": "code",
      "source": [
        "data.shape         # shape of the dataset"
      ],
      "metadata": {
        "colab": {
          "base_uri": "https://localhost:8080/"
        },
        "id": "zd_iyauD7P_x",
        "outputId": "6244f874-e748-492f-b718-d66d8e5ebaeb"
      },
      "execution_count": null,
      "outputs": [
        {
          "output_type": "execute_result",
          "data": {
            "text/plain": [
              "(999, 10)"
            ]
          },
          "metadata": {},
          "execution_count": 3
        }
      ]
    },
    {
      "cell_type": "code",
      "source": [
        "data.columns         # columns"
      ],
      "metadata": {
        "colab": {
          "base_uri": "https://localhost:8080/"
        },
        "id": "4EOmEOhT7UAw",
        "outputId": "1114a198-d5c5-41e0-9b40-dfb6b6530697"
      },
      "execution_count": null,
      "outputs": [
        {
          "output_type": "execute_result",
          "data": {
            "text/plain": [
              "Index(['Customer ID', 'Age', 'Income', 'Education', 'Occupation', 'Income.1',\n",
              "       'Average Balance', 'Appraisal', 'Industri', 'Pelunasan Kredit'],\n",
              "      dtype='object')"
            ]
          },
          "metadata": {},
          "execution_count": 4
        }
      ]
    },
    {
      "cell_type": "code",
      "source": [
        "data.head()     # first 5 rows\n",
        "data.drop(['Customer ID'], axis=1, inplace=True)"
      ],
      "metadata": {
        "id": "VyeHHdgO7YUp"
      },
      "execution_count": null,
      "outputs": []
    },
    {
      "cell_type": "code",
      "source": [
        "data.sample(5)     # random 5 rows"
      ],
      "metadata": {
        "colab": {
          "base_uri": "https://localhost:8080/",
          "height": 206
        },
        "id": "XLWgzQi17eIr",
        "outputId": "4102e7c6-488b-4e47-8079-ce0873df81a1"
      },
      "execution_count": null,
      "outputs": [
        {
          "output_type": "execute_result",
          "data": {
            "text/plain": [
              "     Age  Income  Education  Occupation  Income.1  Average Balance  Appraisal  \\\n",
              "826    5       4          3           1         3                1          2   \n",
              "890    1       4          2           4         2                4          5   \n",
              "761    2       4          1           3         3                5          4   \n",
              "166    1       4          3           4         2                5          4   \n",
              "444    2       1          1           1         1                3          3   \n",
              "\n",
              "     Industri  Pelunasan Kredit  \n",
              "826         3                 0  \n",
              "890         4                 1  \n",
              "761         1                 1  \n",
              "166         5                 0  \n",
              "444         2                 1  "
            ],
            "text/html": [
              "\n",
              "  <div id=\"df-e5f2a4e7-0cd7-4601-9f90-805b5de4c4fb\">\n",
              "    <div class=\"colab-df-container\">\n",
              "      <div>\n",
              "<style scoped>\n",
              "    .dataframe tbody tr th:only-of-type {\n",
              "        vertical-align: middle;\n",
              "    }\n",
              "\n",
              "    .dataframe tbody tr th {\n",
              "        vertical-align: top;\n",
              "    }\n",
              "\n",
              "    .dataframe thead th {\n",
              "        text-align: right;\n",
              "    }\n",
              "</style>\n",
              "<table border=\"1\" class=\"dataframe\">\n",
              "  <thead>\n",
              "    <tr style=\"text-align: right;\">\n",
              "      <th></th>\n",
              "      <th>Age</th>\n",
              "      <th>Income</th>\n",
              "      <th>Education</th>\n",
              "      <th>Occupation</th>\n",
              "      <th>Income.1</th>\n",
              "      <th>Average Balance</th>\n",
              "      <th>Appraisal</th>\n",
              "      <th>Industri</th>\n",
              "      <th>Pelunasan Kredit</th>\n",
              "    </tr>\n",
              "  </thead>\n",
              "  <tbody>\n",
              "    <tr>\n",
              "      <th>826</th>\n",
              "      <td>5</td>\n",
              "      <td>4</td>\n",
              "      <td>3</td>\n",
              "      <td>1</td>\n",
              "      <td>3</td>\n",
              "      <td>1</td>\n",
              "      <td>2</td>\n",
              "      <td>3</td>\n",
              "      <td>0</td>\n",
              "    </tr>\n",
              "    <tr>\n",
              "      <th>890</th>\n",
              "      <td>1</td>\n",
              "      <td>4</td>\n",
              "      <td>2</td>\n",
              "      <td>4</td>\n",
              "      <td>2</td>\n",
              "      <td>4</td>\n",
              "      <td>5</td>\n",
              "      <td>4</td>\n",
              "      <td>1</td>\n",
              "    </tr>\n",
              "    <tr>\n",
              "      <th>761</th>\n",
              "      <td>2</td>\n",
              "      <td>4</td>\n",
              "      <td>1</td>\n",
              "      <td>3</td>\n",
              "      <td>3</td>\n",
              "      <td>5</td>\n",
              "      <td>4</td>\n",
              "      <td>1</td>\n",
              "      <td>1</td>\n",
              "    </tr>\n",
              "    <tr>\n",
              "      <th>166</th>\n",
              "      <td>1</td>\n",
              "      <td>4</td>\n",
              "      <td>3</td>\n",
              "      <td>4</td>\n",
              "      <td>2</td>\n",
              "      <td>5</td>\n",
              "      <td>4</td>\n",
              "      <td>5</td>\n",
              "      <td>0</td>\n",
              "    </tr>\n",
              "    <tr>\n",
              "      <th>444</th>\n",
              "      <td>2</td>\n",
              "      <td>1</td>\n",
              "      <td>1</td>\n",
              "      <td>1</td>\n",
              "      <td>1</td>\n",
              "      <td>3</td>\n",
              "      <td>3</td>\n",
              "      <td>2</td>\n",
              "      <td>1</td>\n",
              "    </tr>\n",
              "  </tbody>\n",
              "</table>\n",
              "</div>\n",
              "      <button class=\"colab-df-convert\" onclick=\"convertToInteractive('df-e5f2a4e7-0cd7-4601-9f90-805b5de4c4fb')\"\n",
              "              title=\"Convert this dataframe to an interactive table.\"\n",
              "              style=\"display:none;\">\n",
              "        \n",
              "  <svg xmlns=\"http://www.w3.org/2000/svg\" height=\"24px\"viewBox=\"0 0 24 24\"\n",
              "       width=\"24px\">\n",
              "    <path d=\"M0 0h24v24H0V0z\" fill=\"none\"/>\n",
              "    <path d=\"M18.56 5.44l.94 2.06.94-2.06 2.06-.94-2.06-.94-.94-2.06-.94 2.06-2.06.94zm-11 1L8.5 8.5l.94-2.06 2.06-.94-2.06-.94L8.5 2.5l-.94 2.06-2.06.94zm10 10l.94 2.06.94-2.06 2.06-.94-2.06-.94-.94-2.06-.94 2.06-2.06.94z\"/><path d=\"M17.41 7.96l-1.37-1.37c-.4-.4-.92-.59-1.43-.59-.52 0-1.04.2-1.43.59L10.3 9.45l-7.72 7.72c-.78.78-.78 2.05 0 2.83L4 21.41c.39.39.9.59 1.41.59.51 0 1.02-.2 1.41-.59l7.78-7.78 2.81-2.81c.8-.78.8-2.07 0-2.86zM5.41 20L4 18.59l7.72-7.72 1.47 1.35L5.41 20z\"/>\n",
              "  </svg>\n",
              "      </button>\n",
              "      \n",
              "  <style>\n",
              "    .colab-df-container {\n",
              "      display:flex;\n",
              "      flex-wrap:wrap;\n",
              "      gap: 12px;\n",
              "    }\n",
              "\n",
              "    .colab-df-convert {\n",
              "      background-color: #E8F0FE;\n",
              "      border: none;\n",
              "      border-radius: 50%;\n",
              "      cursor: pointer;\n",
              "      display: none;\n",
              "      fill: #1967D2;\n",
              "      height: 32px;\n",
              "      padding: 0 0 0 0;\n",
              "      width: 32px;\n",
              "    }\n",
              "\n",
              "    .colab-df-convert:hover {\n",
              "      background-color: #E2EBFA;\n",
              "      box-shadow: 0px 1px 2px rgba(60, 64, 67, 0.3), 0px 1px 3px 1px rgba(60, 64, 67, 0.15);\n",
              "      fill: #174EA6;\n",
              "    }\n",
              "\n",
              "    [theme=dark] .colab-df-convert {\n",
              "      background-color: #3B4455;\n",
              "      fill: #D2E3FC;\n",
              "    }\n",
              "\n",
              "    [theme=dark] .colab-df-convert:hover {\n",
              "      background-color: #434B5C;\n",
              "      box-shadow: 0px 1px 3px 1px rgba(0, 0, 0, 0.15);\n",
              "      filter: drop-shadow(0px 1px 2px rgba(0, 0, 0, 0.3));\n",
              "      fill: #FFFFFF;\n",
              "    }\n",
              "  </style>\n",
              "\n",
              "      <script>\n",
              "        const buttonEl =\n",
              "          document.querySelector('#df-e5f2a4e7-0cd7-4601-9f90-805b5de4c4fb button.colab-df-convert');\n",
              "        buttonEl.style.display =\n",
              "          google.colab.kernel.accessAllowed ? 'block' : 'none';\n",
              "\n",
              "        async function convertToInteractive(key) {\n",
              "          const element = document.querySelector('#df-e5f2a4e7-0cd7-4601-9f90-805b5de4c4fb');\n",
              "          const dataTable =\n",
              "            await google.colab.kernel.invokeFunction('convertToInteractive',\n",
              "                                                     [key], {});\n",
              "          if (!dataTable) return;\n",
              "\n",
              "          const docLinkHtml = 'Like what you see? Visit the ' +\n",
              "            '<a target=\"_blank\" href=https://colab.research.google.com/notebooks/data_table.ipynb>data table notebook</a>'\n",
              "            + ' to learn more about interactive tables.';\n",
              "          element.innerHTML = '';\n",
              "          dataTable['output_type'] = 'display_data';\n",
              "          await google.colab.output.renderOutput(dataTable, element);\n",
              "          const docLink = document.createElement('div');\n",
              "          docLink.innerHTML = docLinkHtml;\n",
              "          element.appendChild(docLink);\n",
              "        }\n",
              "      </script>\n",
              "    </div>\n",
              "  </div>\n",
              "  "
            ]
          },
          "metadata": {},
          "execution_count": 6
        }
      ]
    },
    {
      "cell_type": "code",
      "source": [
        "data.info()                 # data information"
      ],
      "metadata": {
        "colab": {
          "base_uri": "https://localhost:8080/"
        },
        "id": "9MbjZlO-7np6",
        "outputId": "f910b587-f8c4-4aa6-b8cd-fd2eb0bbf291"
      },
      "execution_count": null,
      "outputs": [
        {
          "output_type": "stream",
          "name": "stdout",
          "text": [
            "<class 'pandas.core.frame.DataFrame'>\n",
            "RangeIndex: 999 entries, 0 to 998\n",
            "Data columns (total 9 columns):\n",
            " #   Column            Non-Null Count  Dtype\n",
            "---  ------            --------------  -----\n",
            " 0   Age               999 non-null    int64\n",
            " 1   Income            999 non-null    int64\n",
            " 2   Education         999 non-null    int64\n",
            " 3   Occupation        999 non-null    int64\n",
            " 4   Income.1          999 non-null    int64\n",
            " 5   Average Balance   999 non-null    int64\n",
            " 6   Appraisal         999 non-null    int64\n",
            " 7   Industri          999 non-null    int64\n",
            " 8   Pelunasan Kredit  999 non-null    int64\n",
            "dtypes: int64(9)\n",
            "memory usage: 70.4 KB\n"
          ]
        }
      ]
    },
    {
      "cell_type": "code",
      "source": [
        "data.isnull().sum()    # count the number of null value present in the dataset\n",
        "\n",
        "# conclusion: No null value present in the dataset"
      ],
      "metadata": {
        "colab": {
          "base_uri": "https://localhost:8080/"
        },
        "id": "QfT5BxsPG7DT",
        "outputId": "c9e71f42-c3f8-40fe-b37b-0551a5c0872d"
      },
      "execution_count": null,
      "outputs": [
        {
          "output_type": "execute_result",
          "data": {
            "text/plain": [
              "Age                 0\n",
              "Income              0\n",
              "Education           0\n",
              "Occupation          0\n",
              "Income.1            0\n",
              "Average Balance     0\n",
              "Appraisal           0\n",
              "Industri            0\n",
              "Pelunasan Kredit    0\n",
              "dtype: int64"
            ]
          },
          "metadata": {},
          "execution_count": 8
        }
      ]
    },
    {
      "cell_type": "markdown",
      "source": [
        "## Label Encoding"
      ],
      "metadata": {
        "id": "6x8dldIkNUfO"
      }
    },
    {
      "cell_type": "code",
      "source": [
        "columns = [' workclass', ' education',\n",
        "       ' marital-status', ' occupation', ' relationship', ' race', ' sex',\n",
        "       ' hours-per-week', ' native-country',\n",
        "       ]\n",
        "       \n",
        "label_encoder = LabelEncoder()\n",
        " \n",
        "for col in columns:\n",
        "    data[col]= label_encoder.fit_transform(data[col])       \n",
        "\n",
        "\n",
        "# After label encoding\n",
        "data.head()"
      ],
      "metadata": {
        "id": "jtkd56N9NQ0p"
      },
      "execution_count": null,
      "outputs": []
    },
    {
      "cell_type": "code",
      "source": [
        "data.describe()"
      ],
      "metadata": {
        "id": "kOSAWbBrOupL"
      },
      "execution_count": null,
      "outputs": []
    },
    {
      "cell_type": "code",
      "source": [
        "sns.countplot(data[' sex'])   # countplot for sex\n",
        "\n",
        "#conclusion: number of male greater than female"
      ],
      "metadata": {
        "id": "yz55e9dU_U5W"
      },
      "execution_count": null,
      "outputs": []
    },
    {
      "cell_type": "code",
      "source": [
        "sns.countplot(data[' income'])\n",
        "incomeGreaterThan50k = data[data[' income']==' <=50K']\n",
        "incomeLessThan50k = data[data[' income']==' >50K']\n",
        "\n",
        "print('Shape of <=50k : ', incomeGreaterThan50k.shape)\n",
        "print('\\nShape of >50k : ', incomeLessThan50k.shape)\n",
        "\n",
        "sns.countplot(data=data, x = ' income',label='Count')"
      ],
      "metadata": {
        "id": "kCzZjE6f_Cgz"
      },
      "execution_count": null,
      "outputs": []
    },
    {
      "cell_type": "markdown",
      "source": [
        "## Splitting the dataset into train(80%) and test set(20%)\n"
      ],
      "metadata": {
        "id": "OeopX2HWMwj9"
      }
    },
    {
      "cell_type": "code",
      "source": [
        "# dependentVariable: 'income'\n",
        "dependentVariable = 'Pelunasan Kredit'\n",
        "\n",
        "X = data.drop([dependentVariable], axis=1)\n",
        "\n",
        "y = data[dependentVariable]\n",
        "\n",
        "X_train, X_test, y_train, y_test = train_test_split(X, y, test_size=0.3, random_state=42)\n",
        "\n",
        "print(\"X_train\", X_train.shape)\n",
        "print(\"X_test\", X_test.shape)\n",
        "print(\"y_train\", y_train.shape)\n",
        "print(\"y_test\", y_test.shape)"
      ],
      "metadata": {
        "id": "hBplklxXMPM9"
      },
      "execution_count": null,
      "outputs": []
    },
    {
      "cell_type": "markdown",
      "source": [
        "## k-nearest neighbors"
      ],
      "metadata": {
        "id": "oeeLhSiKswZa"
      }
    },
    {
      "cell_type": "markdown",
      "source": [
        "### For Linaer Kernal"
      ],
      "metadata": {
        "id": "gc19SKVAtCjV"
      }
    },
    {
      "cell_type": "code",
      "source": [
        "cValue = [i for i in range(1, 11) if i%2==1]      \n",
        "linaerAccuracy=[]\n",
        "for c in cValue:    \n",
        "    svm_classifier = SVC(C=c, kernel='linear')\n",
        "    svm_classifier.fit(X_train, y_train)\n",
        "    linaerAccuracy.append(accuracy_score(y_test, svm_classifier.predict(X_test))*100)    "
      ],
      "metadata": {
        "id": "65hcHX62G9rX"
      },
      "execution_count": null,
      "outputs": []
    },
    {
      "cell_type": "code",
      "source": [
        "plt.rcParams[\"figure.figsize\"]=8,5\n",
        "plt.plot(cValue, linaerAccuracy, color='blue',linestyle='dashed', marker='o', markerfacecolor='red')  \n",
        "plt.title(\"Accuracy plot for linear kernal\") \n",
        "plt.xlabel('C value')\n",
        "plt.ylabel('Accuracy')\n",
        "plt.grid()"
      ],
      "metadata": {
        "id": "_h-q0waqHNS1"
      },
      "execution_count": null,
      "outputs": []
    },
    {
      "cell_type": "markdown",
      "source": [
        "Conclusion: for manhatton distance when k=21 classifier gives maximum accuracy"
      ],
      "metadata": {
        "id": "UzdrR1ERwFM4"
      }
    },
    {
      "cell_type": "markdown",
      "source": [
        ""
      ],
      "metadata": {
        "id": "nGxUcRN3wdlj"
      }
    },
    {
      "cell_type": "code",
      "source": [
        "cValue = [i for i in range(1, 31) if i%2==1]      \n",
        "rbfAccuracy=[]\n",
        "for c in cValue:    \n",
        "    svm_classifier = SVC(C=c, kernel='rbf')\n",
        "    svm_classifier.fit(X_train, y_train)\n",
        "    rbfAccuracy.append(accuracy_score(y_test, svm_classifier.predict(X_test))*100)  "
      ],
      "metadata": {
        "id": "iFqvVwFJHRdP"
      },
      "execution_count": null,
      "outputs": []
    },
    {
      "cell_type": "code",
      "source": [
        "plt.rcParams[\"figure.figsize\"]=8,5\n",
        "plt.plot(neighbors, ecludienAccuracy, color='blue',linestyle='dashed', marker='o', markerfacecolor='red')  \n",
        "plt.title(\"Accuracy plot for manhattan_distance\") \n",
        "plt.xlabel('K_Neighbours')\n",
        "plt.ylabel('Accuracy')\n",
        "plt.grid()"
      ],
      "metadata": {
        "id": "FOIiuzLgwiEX"
      },
      "execution_count": null,
      "outputs": []
    },
    {
      "cell_type": "markdown",
      "source": [
        "conclusion: for euclidean_distance when k=23 classifier gives maximum accuracy"
      ],
      "metadata": {
        "id": "K1duOxkZw_4i"
      }
    },
    {
      "cell_type": "markdown",
      "source": [
        "### Compare euclidean_distance and manhattan_distance "
      ],
      "metadata": {
        "id": "lyJNyyu3xN5s"
      }
    },
    {
      "cell_type": "code",
      "source": [
        "myTable = PrettyTable([\"Distance Name\", \"K\", \"Accuracy\"]) \n",
        "\n",
        "for i in range(len(ecludienAccuracy)):\n",
        "    myTable.add_row([\"Ecludien\", neighbors[i], ecludienAccuracy[i]])\n",
        "\n",
        "for i in range(len(manhattanAccuracy)):\n",
        "    myTable.add_row([\"Manhattan\", neighbors[i], manhattanAccuracy[i]])\n",
        "\n",
        "print(myTable)"
      ],
      "metadata": {
        "id": "yG69GXV3z0s2"
      },
      "execution_count": null,
      "outputs": []
    },
    {
      "cell_type": "code",
      "source": [
        "plt.rcParams[\"figure.figsize\"]=13,10\n",
        "\n",
        "plt.plot(neighbors, ecludienAccuracy, color='green',linestyle='dashed', marker='o', markerfacecolor='black', label=\"Precision\")\n",
        "plt.plot(neighbors, manhattanAccuracy, color='pink',linestyle='dashed', marker='o', markerfacecolor='red', label=\"Recall\")\n",
        "plt.title(\"Accuracy plot for Both distance\") \n",
        "plt.xlabel('K_Neighbours')\n",
        "plt.ylabel('Accuracy')\n",
        "plt.grid()\n",
        "plt.show()"
      ],
      "metadata": {
        "id": "ALKXb9hcHZPg"
      },
      "execution_count": null,
      "outputs": []
    },
    {
      "cell_type": "markdown",
      "source": [
        "Conclusion: when distance is manhattan and k=21 KNN gives maximum accuracy"
      ],
      "metadata": {
        "id": "1wlD2d1K1Y2s"
      }
    },
    {
      "cell_type": "code",
      "source": [
        "KnnClassifier = KNeighborsClassifier(n_neighbors=21, p=1)\n",
        "KnnClassifier.fit(X_train, y_train)"
      ],
      "metadata": {
        "id": "D9aIWeO9MCmP"
      },
      "execution_count": null,
      "outputs": []
    },
    {
      "cell_type": "code",
      "source": [
        "plt.rcParams[\"figure.figsize\"]=8,5\n",
        "print(\"\\nAcuracy of KNN classifier for test set: \", accuracy_score(y_test, KnnClassifier.predict(X_test))*100)\n",
        "print('\\nClassification Report for test case : \\n', classification_report(y_test, KnnClassifier.predict(X_test)))\n",
        "print(\"\\nConfusion Matrix for test case : \\n\", confusion_matrix(y_test, KnnClassifier.predict(X_test)))\n",
        "print('\\nConfusion Matrix Heatamp for test case: ')\n",
        "sns.heatmap(confusion_matrix(y_test, KnnClassifier.predict(X_test)), annot=True, fmt='d')"
      ],
      "metadata": {
        "id": "Qd5hOi0n1rrH"
      },
      "execution_count": null,
      "outputs": []
    },
    {
      "cell_type": "code",
      "source": [
        "plt.rcParams[\"figure.figsize\"]=8,5\n",
        "print(\"Acuracy of KNN classifier for train set: \", accuracy_score(y_train, KnnClassifier.predict(X_train))*100)\n",
        "print('\\nClassification Report for train set : \\n', classification_report(y_train, KnnClassifier.predict(X_train)))\n",
        "print(\"\\nConfusion Matrix for train set : \\n\", confusion_matrix(y_train, KnnClassifier.predict(X_train)))\n",
        "print('\\nConfusion Matrix Heatamp for train set: ')\n",
        "sns.heatmap(confusion_matrix(y_train, KnnClassifier.predict(X_train)), annot=True, fmt='d')"
      ],
      "metadata": {
        "id": "8i4T-O9F1xPV"
      },
      "execution_count": null,
      "outputs": []
    },
    {
      "cell_type": "code",
      "source": [
        ""
      ],
      "metadata": {
        "id": "GpL4pKHB11uG"
      },
      "execution_count": null,
      "outputs": []
    }
  ]
}